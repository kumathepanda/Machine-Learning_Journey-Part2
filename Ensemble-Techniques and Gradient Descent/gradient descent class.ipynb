{
 "cells": [
  {
   "cell_type": "code",
   "execution_count": 244,
   "id": "7b5955b0-33df-4a06-af84-90b232df53ad",
   "metadata": {},
   "outputs": [],
   "source": [
    "from sklearn.datasets import load_diabetes\n",
    "\n",
    "import numpy as np \n",
    "from sklearn.linear_model import LinearRegression\n",
    "from sklearn.metrics import r2_score\n",
    "from sklearn.model_selection import train_test_split\n",
    "import time\n",
    "import random"
   ]
  },
  {
   "cell_type": "code",
   "execution_count": 10,
   "id": "ec44540e-6c1c-4cd3-9f72-82d432cc90c8",
   "metadata": {},
   "outputs": [],
   "source": [
    "X,y = load_diabetes(return_X_y=True)"
   ]
  },
  {
   "cell_type": "code",
   "execution_count": 12,
   "id": "7c1d0376-01af-4893-b168-5da301dd84c5",
   "metadata": {},
   "outputs": [
    {
     "name": "stdout",
     "output_type": "stream",
     "text": [
      "(442, 10)\n",
      "(442,)\n"
     ]
    }
   ],
   "source": [
    "print(X.shape)\n",
    "print(y.shape)"
   ]
  },
  {
   "cell_type": "code",
   "execution_count": 14,
   "id": "af98f594-d8e8-42c0-8ed4-979c68bcf185",
   "metadata": {},
   "outputs": [],
   "source": [
    "x_train,x_test,y_train,y_test = train_test_split(X,y,test_size=0.2,random_state=2)"
   ]
  },
  {
   "cell_type": "code",
   "execution_count": 224,
   "id": "89ad3fae-1819-46dd-b326-f021811bad6a",
   "metadata": {},
   "outputs": [
    {
     "name": "stdout",
     "output_type": "stream",
     "text": [
      "time taken is 0.022346019744873047\n"
     ]
    }
   ],
   "source": [
    "reg = LinearRegression()\n",
    "start = time.time()\n",
    "reg.fit(x_train,y_train)\n",
    "print('time taken is {}'.format(time.time() - start))"
   ]
  },
  {
   "cell_type": "code",
   "execution_count": 18,
   "id": "a74a50ec-4c0a-4d2d-84e6-339ba7288366",
   "metadata": {},
   "outputs": [
    {
     "name": "stdout",
     "output_type": "stream",
     "text": [
      "151.88331005254167\n",
      "[  -9.15865318 -205.45432163  516.69374454  340.61999905 -895.5520019\n",
      "  561.22067904  153.89310954  126.73139688  861.12700152   52.42112238]\n"
     ]
    }
   ],
   "source": [
    "print(reg.intercept_)\n",
    "print(reg.coef_)\n"
   ]
  },
  {
   "cell_type": "code",
   "execution_count": 20,
   "id": "f0020a22-4fc4-46e9-9f45-0f09734bd2fd",
   "metadata": {},
   "outputs": [
    {
     "data": {
      "text/plain": [
       "0.4399338661568968"
      ]
     },
     "execution_count": 20,
     "metadata": {},
     "output_type": "execute_result"
    }
   ],
   "source": [
    "y_pred = reg.predict(x_test)\n",
    "r2_score(y_test,y_pred)"
   ]
  },
  {
   "cell_type": "code",
   "execution_count": 154,
   "id": "354fca92-0135-4ed3-a632-bd9e54e419b1",
   "metadata": {},
   "outputs": [],
   "source": [
    "class GDRegressor:\n",
    "    def __init__(self,learning_rate=0.01,epochs=100):\n",
    "        self.coef_=None\n",
    "        self.intercept_= None\n",
    "        self.lr = learning_rate\n",
    "        self.epochs= epochs\n",
    "\n",
    "    def fit(self,x_train,y_train):\n",
    "        self.intercept_ = 0\n",
    "        self.coef_ = np.ones(x_train.shape[1])\n",
    "        for i in range(self.epochs):\n",
    "            y_hat = np.dot(x_train,self.coef_) + self.intercept_\n",
    "            #print('shape of y_hat',y_hat.shape)\n",
    "            intercept_slope = -2*np.mean(y_train - y_hat)\n",
    "            self.intercept_= self.intercept_ - (self.lr)*intercept_slope\n",
    "\n",
    "            coef_slope = -2*np.dot((y_train-y_hat).T,x_train)/x_train.shape[0]\n",
    "            self.coef_ = self.coef_ - (self.lr*coef_slope)\n",
    "\n",
    "        print(self.intercept_,self.coef_)\n",
    "\n",
    "    def predict(self,x_test):\n",
    "        return np.dot(x_test,self.coef_) + self.intercept_\n",
    "        "
   ]
  },
  {
   "cell_type": "code",
   "execution_count": 156,
   "id": "239ada83-7df1-4f5e-b69c-4ef4d0ec2361",
   "metadata": {},
   "outputs": [],
   "source": [
    "gdr = GDRegressor(epochs=1000,learning_rate=0.5)"
   ]
  },
  {
   "cell_type": "code",
   "execution_count": 226,
   "id": "c641caec-3cb4-4b53-83f0-b4cbf1d0ce35",
   "metadata": {},
   "outputs": [
    {
     "name": "stdout",
     "output_type": "stream",
     "text": [
      "152.01351687661833 [  14.38990585 -173.7235727   491.54898524  323.91524824  -39.32648042\n",
      " -116.01061213 -194.04077415  103.38135565  451.63448787   97.57218278]\n",
      "time taken is 0.0251615047454834\n"
     ]
    }
   ],
   "source": [
    "start = time.time()\n",
    "gdr.fit(x_train,y_train)\n",
    "print('time taken is {}'.format(time.time()-start))"
   ]
  },
  {
   "cell_type": "code",
   "execution_count": 160,
   "id": "2160304e-d922-4c7d-8f0c-c433ad9a5064",
   "metadata": {},
   "outputs": [],
   "source": [
    "y_pred = gdr.predict(x_test)"
   ]
  },
  {
   "cell_type": "code",
   "execution_count": 162,
   "id": "53f57d7b-b172-4cb1-a716-2c8f612b34f1",
   "metadata": {},
   "outputs": [
    {
     "data": {
      "text/plain": [
       "0.4534503034722803"
      ]
     },
     "execution_count": 162,
     "metadata": {},
     "output_type": "execute_result"
    }
   ],
   "source": [
    "r2_score(y_test,y_pred)"
   ]
  },
  {
   "cell_type": "code",
   "execution_count": 164,
   "id": "a25b1e29-1ef9-433a-92fb-eb7a632e0fa7",
   "metadata": {},
   "outputs": [],
   "source": [
    "class SGDRegressor:\n",
    "    def __init__(self,learning_rate=0.01,epochs=100):\n",
    "        self.coef_=None\n",
    "        self.intercept_= None\n",
    "        self.lr = learning_rate\n",
    "        self.epochs= epochs\n",
    "\n",
    "    def fit(self,x_train,y_train):\n",
    "        self.intercept_ = 0\n",
    "        self.coef_ = np.ones(x_train.shape[1])\n",
    "        for i in range(self.epochs):\n",
    "            for j in range(x_train.shape[0]):\n",
    "                idx = np.random.randint(0,x_train.shape[0])\n",
    "                y_hat = np.dot(x_train[idx],self.coef_) + self.intercept_\n",
    "\n",
    "                intercept_slope = -2*(y_train[idx]-y_hat)\n",
    "                self.intercept_ = self.intercept_ - (self.lr)*intercept_slope\n",
    "\n",
    "                coef_slope = -2*np.dot((y_train[idx]-y_hat),x_train[idx])\n",
    "                self.coef_ = self.coef_ - (self.lr)*coef_slope\n",
    "\n",
    "        print(self.intercept_,self.coef_)\n",
    "\n",
    "    def predict(self,x_test):\n",
    "        return np.dot(x_test,self.coef_) + self.intercept_\n",
    "        "
   ]
  },
  {
   "cell_type": "code",
   "execution_count": 214,
   "id": "ed42ecf9-7b67-4dce-a9b5-e2a273724742",
   "metadata": {},
   "outputs": [],
   "source": [
    "sgd = SGDRegressor(learning_rate=0.1,epochs=100)"
   ]
  },
  {
   "cell_type": "code",
   "execution_count": 216,
   "id": "6a147612-1a67-4a20-babd-fbd4e95f8ca7",
   "metadata": {},
   "outputs": [
    {
     "name": "stdout",
     "output_type": "stream",
     "text": [
      "162.82899532293987 [ -29.76596918 -205.14710283  553.43963229  336.69497403 -137.11447881\n",
      "  -32.54774548 -179.32522112   37.6206002   573.66118537   48.42363853]\n"
     ]
    }
   ],
   "source": [
    "sgd.fit(x_train,y_train)"
   ]
  },
  {
   "cell_type": "code",
   "execution_count": 218,
   "id": "61d44dbd-4444-4f71-bfaf-9ca6e898e4a0",
   "metadata": {},
   "outputs": [],
   "source": [
    "y_pred = sgd.predict(x_test)"
   ]
  },
  {
   "cell_type": "code",
   "execution_count": 220,
   "id": "14e43d6f-f07c-4f51-902f-c54b2aa68056",
   "metadata": {},
   "outputs": [
    {
     "data": {
      "text/plain": [
       "0.42647366694599553"
      ]
     },
     "execution_count": 220,
     "metadata": {},
     "output_type": "execute_result"
    }
   ],
   "source": [
    "r2_score(y_test,y_pred)"
   ]
  },
  {
   "cell_type": "code",
   "execution_count": 326,
   "id": "7faed4f0-dd39-4d2e-92bc-dca515183c38",
   "metadata": {},
   "outputs": [],
   "source": [
    "class MBGDRegressor:\n",
    "    def __init__(self,batch_size,learning_rate=0.01,epochs=100):\n",
    "        self.coef_=None\n",
    "        self.intercept_= None\n",
    "        self.lr = learning_rate\n",
    "        self.epochs= epochs\n",
    "        self.batch_size = batch_size\n",
    "\n",
    "    def fit(self,x_train,y_train):\n",
    "        self.intercept_ = 0\n",
    "        self.coef_ = np.ones(x_train.shape[1])\n",
    "        for i in range(self.epochs):\n",
    "            for j in range(int(x_train.shape[0]/self.batch_size)):\n",
    "                idx = random.sample(range(x_train.shape[0]),self.batch_size)\n",
    "                \n",
    "                y_hat = np.dot(x_train[idx],self.coef_) + self.intercept_\n",
    "            \n",
    "                intercept_slope = -2*np.mean(y_train[idx] - y_hat)\n",
    "                self.intercept_= self.intercept_ - (self.lr)*intercept_slope\n",
    "\n",
    "                coef_slope = -2*np.dot((y_train[idx]-y_hat),x_train[idx])/x_train[idx].shape[0]\n",
    "                self.coef_ = self.coef_ - (self.lr*coef_slope)\n",
    "\n",
    "        print(self.intercept_,self.coef_)\n",
    "\n",
    "    def predict(self,x_test):\n",
    "        return np.dot(x_test,self.coef_) + self.intercept_\n",
    "        "
   ]
  },
  {
   "cell_type": "code",
   "execution_count": 328,
   "id": "a7e3b252-4474-46c6-80e5-4ff283226a33",
   "metadata": {},
   "outputs": [],
   "source": [
    "mbgd = MBGDRegressor(batch_size=int(x_train.shape[0]/10),learning_rate=0.1,epochs=175)"
   ]
  },
  {
   "cell_type": "code",
   "execution_count": 330,
   "id": "9a3e7699-f92f-4fcf-99bc-73573c221b77",
   "metadata": {},
   "outputs": [
    {
     "name": "stdout",
     "output_type": "stream",
     "text": [
      "154.6242749908403 [  55.17158396  -67.23831257  353.95759846  249.29927424   16.76980387\n",
      "  -29.61058773 -170.55602677  125.80214929  318.82442471  125.81982153]\n"
     ]
    }
   ],
   "source": [
    "mbgd.fit(x_train,y_train)"
   ]
  },
  {
   "cell_type": "code",
   "execution_count": 332,
   "id": "58a3cba8-0b0f-4c92-9d5d-c7f15d61ce4c",
   "metadata": {},
   "outputs": [
    {
     "data": {
      "text/plain": [
       "(353, 10)"
      ]
     },
     "execution_count": 332,
     "metadata": {},
     "output_type": "execute_result"
    }
   ],
   "source": [
    "x_train.shape"
   ]
  },
  {
   "cell_type": "code",
   "execution_count": 334,
   "id": "0d24d3ff-f8a3-4fa2-accb-b03925cee057",
   "metadata": {},
   "outputs": [],
   "source": [
    "y_pred = mbgd.predict(x_test)"
   ]
  },
  {
   "cell_type": "code",
   "execution_count": 336,
   "id": "ec5da051-e240-4271-a9af-09fd2a9d31a2",
   "metadata": {},
   "outputs": [
    {
     "data": {
      "text/plain": [
       "0.4329465211997304"
      ]
     },
     "execution_count": 336,
     "metadata": {},
     "output_type": "execute_result"
    }
   ],
   "source": [
    "r2_score(y_test,y_pred)"
   ]
  },
  {
   "cell_type": "code",
   "execution_count": null,
   "id": "f5c56261-3e86-47bd-bd22-3f15e3f7b00c",
   "metadata": {},
   "outputs": [],
   "source": []
  }
 ],
 "metadata": {
  "kernelspec": {
   "display_name": "Python [conda env:base] *",
   "language": "python",
   "name": "conda-base-py"
  },
  "language_info": {
   "codemirror_mode": {
    "name": "ipython",
    "version": 3
   },
   "file_extension": ".py",
   "mimetype": "text/x-python",
   "name": "python",
   "nbconvert_exporter": "python",
   "pygments_lexer": "ipython3",
   "version": "3.11.7"
  }
 },
 "nbformat": 4,
 "nbformat_minor": 5
}
